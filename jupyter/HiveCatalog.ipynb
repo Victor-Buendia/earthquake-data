{
 "cells": [
  {
   "cell_type": "code",
   "execution_count": 1,
   "id": "7112aca8-be78-40d0-aa07-5d66a891a1d3",
   "metadata": {},
   "outputs": [],
   "source": [
    "import pandas as pd\n",
    "\n",
    "df = pd.DataFrame({\n",
    "    \"id\": [1, 2, 3],\n",
    "    \"name\": [\"Alice\", \"Bob\", \"Charlie\"]\n",
    "})\n",
    "\n",
    "df.to_parquet(\"/app/sample.parquet\", index=False)"
   ]
  },
  {
   "cell_type": "code",
   "execution_count": 2,
   "id": "f1e7469a-8af9-425b-bab8-d88d43bfd23d",
   "metadata": {},
   "outputs": [],
   "source": [
    "import os\n",
    "from pyspark.sql import SparkSession\n",
    "\n",
    "spark = (\n",
    "    SparkSession.builder\n",
    "    .master(\"spark://spark-master:7077\")\n",
    "    .appName(\"IcebergExample\")\n",
    "    .config(\"spark.jars\", \"/home/spark/jars/*\")  \n",
    "    .config(\"spark.jars.packages\", \"org.apache.hadoop:hadoop-aws:3.3.4,org.apache.iceberg:iceberg-spark-runtime-3.5_2.12:1.4.2\")   \n",
    "    .config(\"spark.hadoop.fs.s3a.impl\", \"org.apache.hadoop.fs.s3a.S3AFileSystem\")\n",
    "    .config(\"spark.sql.catalog.hadoop_cat\", \"org.apache.iceberg.spark.SparkCatalog\")\n",
    "    .config(\"spark.sql.catalog.hadoop_cat.type\", \"hive\")\n",
    "    .config(\"spark.sql.catalog.hadoop_cat.uri\", \"thrift://metastore:9083\")\n",
    "    .config(\"spark.sql.catalog.hadoop_cat.warehouse\", f\"s3a://{os.environ['WAREHOUSE_BUCKET_NAME']}/warehouse\")\n",
    "    .getOrCreate()\n",
    ")"
   ]
  },
  {
   "cell_type": "code",
   "execution_count": 3,
   "id": "0a88bf57-6332-4292-b185-d625157769ed",
   "metadata": {},
   "outputs": [
    {
     "name": "stdout",
     "output_type": "stream",
     "text": [
      "+---+-------+\n",
      "| id|   name|\n",
      "+---+-------+\n",
      "|  1|  Alice|\n",
      "|  2|    Bob|\n",
      "|  3|Charlie|\n",
      "+---+-------+\n",
      "\n"
     ]
    }
   ],
   "source": [
    "# Read the Parquet file from MinIO bucket \"source\"\n",
    "df = spark.read.parquet(\"s3a://raw/sample.parquet\")\n",
    "\n",
    "df.show()"
   ]
  },
  {
   "cell_type": "code",
   "execution_count": null,
   "id": "60ba2fbe-5fea-48f3-8374-0c894e0b4afd",
   "metadata": {},
   "outputs": [],
   "source": [
    "spark.sql(\"CREATE DATABASE IF NOT EXISTS hadoop_cat.db\")"
   ]
  },
  {
   "cell_type": "code",
   "execution_count": null,
   "id": "2ed0398e-915e-4031-b426-8f2501cf4743",
   "metadata": {},
   "outputs": [],
   "source": [
    "spark.sql(\"SHOW DATABASES IN hadoop_cat\").show()"
   ]
  },
  {
   "cell_type": "code",
   "execution_count": null,
   "id": "ce905ac1-5a55-43ff-8d2c-ab194ab5ffbf",
   "metadata": {},
   "outputs": [],
   "source": [
    "spark.sql(\"DESCRIBE DATABASE hadoop_cat.db\").show()"
   ]
  },
  {
   "cell_type": "code",
   "execution_count": null,
   "id": "6b882d45-13e4-4d92-a9a7-752f2aa99ce1",
   "metadata": {},
   "outputs": [],
   "source": [
    "spark.sql(\"DESCRIBE DATABASE db\").show()"
   ]
  },
  {
   "cell_type": "code",
   "execution_count": null,
   "id": "0823b7fe-8214-497d-968a-bcffc017dcef",
   "metadata": {},
   "outputs": [],
   "source": [
    "# Write to Iceberg table in the \"warehouse\" bucket\n",
    "df.writeTo(\"hadoop_cat.db.people\").createOrReplace()"
   ]
  },
  {
   "cell_type": "code",
   "execution_count": null,
   "id": "96054758-ce61-40a8-9930-9a623fcedc1d",
   "metadata": {},
   "outputs": [],
   "source": [
    "spark.sql(\"SELECT * FROM hadoop_cat.db.people\").show()"
   ]
  }
 ],
 "metadata": {
  "kernelspec": {
   "display_name": "Python 3 (ipykernel)",
   "language": "python",
   "name": "python3"
  },
  "language_info": {
   "codemirror_mode": {
    "name": "ipython",
    "version": 3
   },
   "file_extension": ".py",
   "mimetype": "text/x-python",
   "name": "python",
   "nbconvert_exporter": "python",
   "pygments_lexer": "ipython3",
   "version": "3.11.6"
  }
 },
 "nbformat": 4,
 "nbformat_minor": 5
}

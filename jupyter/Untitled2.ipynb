{
 "cells": [
  {
   "cell_type": "code",
   "execution_count": 1,
   "id": "476a9695-55fd-4116-801f-dfcab6033556",
   "metadata": {},
   "outputs": [
    {
     "name": "stdout",
     "output_type": "stream",
     "text": [
      "+---+-------+\n",
      "| id|   name|\n",
      "+---+-------+\n",
      "|  1|  Alice|\n",
      "|  2|    Bob|\n",
      "|  3|Charlie|\n",
      "+---+-------+\n",
      "\n"
     ]
    }
   ],
   "source": [
    "import os\n",
    "from pyspark.sql import SparkSession\n",
    "\n",
    "jars = []\n",
    "for a,b,c in os.walk(\"/opt/bitnami/spark/jars\"):\n",
    "    for jar in c:\n",
    "        jars.append(os.path.join(a,jar))\n",
    "jars = \",\".join(jars)\n",
    "\n",
    "spark = (\n",
    "    SparkSession.builder\n",
    "    .appName(\"IcebergExample\") \n",
    "    .config(\"spark.jars\", jars)\n",
    "    .master(\"spark://spark-master:7077\")\n",
    "    .config(\"spark.sql.catalog.hadoop_cat\", \"org.apache.iceberg.spark.SparkCatalog\")\n",
    "    .config(\"spark.sql.catalog.hadoop_cat.type\", \"hive\")\n",
    "    .config(\"spark.sql.catalog.hadoop_cat.uri\", \"thrift://metastore:9083\")\n",
    "    .config(\"spark.sql.catalog.hadoop_cat.warehouse\", f\"s3a://{os.environ['WAREHOUSE_BUCKET_NAME']}/warehouse\")\n",
    "    .getOrCreate()\n",
    ")\n",
    "\n",
    "# Read the Parquet file from MinIO bucket \"source\"\n",
    "df = spark.read.parquet(\"s3a://raw/sample.parquet\")\n",
    "\n",
    "df.show()"
   ]
  },
  {
   "cell_type": "code",
   "execution_count": 2,
   "id": "ac3cdfa0-0f9d-47ed-bc54-00292a58431a",
   "metadata": {},
   "outputs": [
    {
     "data": {
      "text/plain": [
       "'3.3.4'"
      ]
     },
     "execution_count": 2,
     "metadata": {},
     "output_type": "execute_result"
    }
   ],
   "source": [
    "spark.sparkContext._jvm.org.apache.hadoop.util.VersionInfo.getVersion()"
   ]
  },
  {
   "cell_type": "code",
   "execution_count": 2,
   "id": "c9262768-3e6c-4186-8170-845efb750147",
   "metadata": {},
   "outputs": [
    {
     "data": {
      "text/plain": [
       "DataFrame[]"
      ]
     },
     "execution_count": 2,
     "metadata": {},
     "output_type": "execute_result"
    }
   ],
   "source": [
    "spark.sql(\"CREATE DATABASE IF NOT EXISTS hadoop_cat.db\")"
   ]
  },
  {
   "cell_type": "code",
   "execution_count": 4,
   "id": "54cc1cdc-8f87-4dd4-ac25-f4a55ae266b4",
   "metadata": {},
   "outputs": [],
   "source": [
    "# Write to Iceberg table in the \"warehouse\" bucket\n",
    "df.writeTo(\"hadoop_cat.db.people\").using(\"iceberg\").createOrReplace()"
   ]
  }
 ],
 "metadata": {
  "kernelspec": {
   "display_name": "Python 3 (ipykernel)",
   "language": "python",
   "name": "python3"
  },
  "language_info": {
   "codemirror_mode": {
    "name": "ipython",
    "version": 3
   },
   "file_extension": ".py",
   "mimetype": "text/x-python",
   "name": "python",
   "nbconvert_exporter": "python",
   "pygments_lexer": "ipython3",
   "version": "3.11.6"
  }
 },
 "nbformat": 4,
 "nbformat_minor": 5
}

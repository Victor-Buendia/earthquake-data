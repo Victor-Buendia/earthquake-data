{
 "cells": [
  {
   "cell_type": "code",
   "execution_count": 2,
   "id": "ac9d3a80-404e-4978-b8d7-b41ccb88669a",
   "metadata": {},
   "outputs": [
    {
     "name": "stdout",
     "output_type": "stream",
     "text": [
      "http://minio:9000\n",
      "s3a://lakehouse/iceberg/\n"
     ]
    }
   ],
   "source": [
    "import os\n",
    "from pyspark.sql import SparkSession\n",
    "print(os.environ[\"MINIO_ENDPOINT_URL\"])\n",
    "print(f\"s3a://{os.environ['WAREHOUSE_BUCKET_NAME']}/iceberg/\")"
   ]
  },
  {
   "cell_type": "code",
   "execution_count": 6,
   "id": "95a59fdb-469d-4267-ab0b-c806d9eee24a",
   "metadata": {},
   "outputs": [],
   "source": [
    "spark = (\n",
    "        SparkSession.builder.master(\"spark://spark-master:7077\")\n",
    "        .appName(\"stg_clockify__time_entries\")\n",
    "        .config(\n",
    "            \"spark.jars.packages\",\n",
    "            \"org.apache.hadoop:hadoop-aws:3.3.4,org.apache.iceberg:iceberg-spark-runtime-3.5_2.12:1.4.2\",\n",
    "        )\n",
    "        .config(\"spark.hadoop.fs.s3a.access.key\", os.environ[\"MINIO_ACCESS_KEY\"])\n",
    "        .config(\"spark.hadoop.fs.s3a.secret.key\", os.environ[\"MINIO_SECRET_KEY\"])\n",
    "        .config(\"spark.hadoop.fs.s3a.endpoint\", os.environ[\"MINIO_ENDPOINT_URL\"])\n",
    "        .config(\"spark.hadoop.fs.s3a.path.style.access\", \"true\")\n",
    "        .config(\"spark.hadoop.fs.s3a.connection.ssl.enabled\", \"false\")\n",
    "        .config(\"spark.sql.extensions\", \"org.apache.iceberg.spark.extensions.IcebergSparkSessionExtensions\")\n",
    "        .config(\"spark.sql.catalog.clockify_catalog\", \"org.apache.iceberg.spark.SparkCatalog\")\n",
    "        .config(\"spark.sql.catalog.clockify_catalog.type\", \"hive\")\n",
    "        .config(\"spark.hadoop.hive.metastore.uris\", \"thrift://metastore:9083\")\n",
    "        .config(\"spark.sql.catalog.clockify_catalog.warehouse\", f\"s3a://{os.environ['WAREHOUSE_BUCKET_NAME']}/iceberg/\")\n",
    "        .enableHiveSupport()\n",
    "        .getOrCreate()\n",
    "    )"
   ]
  },
  {
   "cell_type": "code",
   "execution_count": 9,
   "id": "2152e29f-acbc-4ba4-b15f-597d9a04d0bc",
   "metadata": {},
   "outputs": [
    {
     "name": "stdout",
     "output_type": "stream",
     "text": [
      "root\n",
      " |-- billable: boolean (nullable = true)\n",
      " |-- costRate: struct (nullable = true)\n",
      " |    |-- amount: long (nullable = true)\n",
      " |    |-- currency: string (nullable = true)\n",
      " |-- customFieldValues: array (nullable = true)\n",
      " |    |-- element: string (containsNull = true)\n",
      " |-- description: string (nullable = true)\n",
      " |-- hourlyRate: struct (nullable = true)\n",
      " |    |-- amount: long (nullable = true)\n",
      " |    |-- currency: string (nullable = true)\n",
      " |-- id: string (nullable = true)\n",
      " |-- isLocked: boolean (nullable = true)\n",
      " |-- kioskId: string (nullable = true)\n",
      " |-- projectId: string (nullable = true)\n",
      " |-- tagIds: array (nullable = true)\n",
      " |    |-- element: string (containsNull = true)\n",
      " |-- taskId: string (nullable = true)\n",
      " |-- timeInterval: struct (nullable = true)\n",
      " |    |-- duration: string (nullable = true)\n",
      " |    |-- end: string (nullable = true)\n",
      " |    |-- start: string (nullable = true)\n",
      " |-- type: string (nullable = true)\n",
      " |-- userId: string (nullable = true)\n",
      " |-- workspaceId: string (nullable = true)\n",
      "\n"
     ]
    }
   ],
   "source": [
    "df = spark.read.parquet(\"s3a://raw/clockify/time-entries/parquet/*.parquet\")\n",
    "df.printSchema()"
   ]
  },
  {
   "cell_type": "code",
   "execution_count": 11,
   "id": "c0c4dac2-3b28-4a8c-bb5f-ab37263aa407",
   "metadata": {},
   "outputs": [
    {
     "data": {
      "text/html": [
       "<div>\n",
       "<style scoped>\n",
       "    .dataframe tbody tr th:only-of-type {\n",
       "        vertical-align: middle;\n",
       "    }\n",
       "\n",
       "    .dataframe tbody tr th {\n",
       "        vertical-align: top;\n",
       "    }\n",
       "\n",
       "    .dataframe thead th {\n",
       "        text-align: right;\n",
       "    }\n",
       "</style>\n",
       "<table border=\"1\" class=\"dataframe\">\n",
       "  <thead>\n",
       "    <tr style=\"text-align: right;\">\n",
       "      <th></th>\n",
       "      <th>billable</th>\n",
       "      <th>costRate</th>\n",
       "      <th>customFieldValues</th>\n",
       "      <th>description</th>\n",
       "      <th>hourlyRate</th>\n",
       "      <th>id</th>\n",
       "      <th>isLocked</th>\n",
       "      <th>kioskId</th>\n",
       "      <th>projectId</th>\n",
       "      <th>tagIds</th>\n",
       "      <th>taskId</th>\n",
       "      <th>timeInterval</th>\n",
       "      <th>type</th>\n",
       "      <th>userId</th>\n",
       "      <th>workspaceId</th>\n",
       "    </tr>\n",
       "  </thead>\n",
       "  <tbody>\n",
       "    <tr>\n",
       "      <th>0</th>\n",
       "      <td>True</td>\n",
       "      <td>(0, R$)</td>\n",
       "      <td>[]</td>\n",
       "      <td>FN</td>\n",
       "      <td>(0, R$)</td>\n",
       "      <td>6812503ea9fefb2f03fdce00</td>\n",
       "      <td>False</td>\n",
       "      <td>None</td>\n",
       "      <td>61e54e2ddc3256444ce00210</td>\n",
       "      <td>None</td>\n",
       "      <td>None</td>\n",
       "      <td>(PT58M, 2025-04-30T17:28:54Z, 2025-04-30T16:30...</td>\n",
       "      <td>REGULAR</td>\n",
       "      <td>5e95c064ea8094116e8e0a54</td>\n",
       "      <td>5e95c064ea8094116e8e0a56</td>\n",
       "    </tr>\n",
       "    <tr>\n",
       "      <th>1</th>\n",
       "      <td>True</td>\n",
       "      <td>(0, R$)</td>\n",
       "      <td>[]</td>\n",
       "      <td>FN</td>\n",
       "      <td>(0, R$)</td>\n",
       "      <td>68108631685bcf6ccbc048c3</td>\n",
       "      <td>False</td>\n",
       "      <td>None</td>\n",
       "      <td>61e54e2ddc3256444ce00210</td>\n",
       "      <td>[]</td>\n",
       "      <td>None</td>\n",
       "      <td>(PT8H, 2025-04-30T16:00:00Z, 2025-04-30T08:00:...</td>\n",
       "      <td>REGULAR</td>\n",
       "      <td>5e95c064ea8094116e8e0a54</td>\n",
       "      <td>5e95c064ea8094116e8e0a56</td>\n",
       "    </tr>\n",
       "    <tr>\n",
       "      <th>2</th>\n",
       "      <td>False</td>\n",
       "      <td>(0, R$)</td>\n",
       "      <td>[]</td>\n",
       "      <td>AIRFLOW</td>\n",
       "      <td>(0, R$)</td>\n",
       "      <td>681d4cfa9ee5b440ea2a2aaa</td>\n",
       "      <td>False</td>\n",
       "      <td>None</td>\n",
       "      <td>5e9f4704ea8094116e994d87</td>\n",
       "      <td>[]</td>\n",
       "      <td>None</td>\n",
       "      <td>(None, None, 2025-05-09T00:31:54Z)</td>\n",
       "      <td>REGULAR</td>\n",
       "      <td>5e95c064ea8094116e8e0a54</td>\n",
       "      <td>5e95c064ea8094116e8e0a56</td>\n",
       "    </tr>\n",
       "    <tr>\n",
       "      <th>3</th>\n",
       "      <td>True</td>\n",
       "      <td>(0, R$)</td>\n",
       "      <td>[]</td>\n",
       "      <td>FN</td>\n",
       "      <td>(0, R$)</td>\n",
       "      <td>681c62ae1f74a85f2fba2592</td>\n",
       "      <td>False</td>\n",
       "      <td>None</td>\n",
       "      <td>61e54e2ddc3256444ce00210</td>\n",
       "      <td>None</td>\n",
       "      <td>None</td>\n",
       "      <td>(PT8H13M, 2025-05-08T16:05:14Z, 2025-05-08T07:...</td>\n",
       "      <td>REGULAR</td>\n",
       "      <td>5e95c064ea8094116e8e0a54</td>\n",
       "      <td>5e95c064ea8094116e8e0a56</td>\n",
       "    </tr>\n",
       "    <tr>\n",
       "      <th>4</th>\n",
       "      <td>False</td>\n",
       "      <td>(0, R$)</td>\n",
       "      <td>[]</td>\n",
       "      <td>AIRFLOW</td>\n",
       "      <td>(0, R$)</td>\n",
       "      <td>681086462e56197b9fdc38a3</td>\n",
       "      <td>False</td>\n",
       "      <td>None</td>\n",
       "      <td>5e9f4704ea8094116e994d87</td>\n",
       "      <td>[]</td>\n",
       "      <td>None</td>\n",
       "      <td>(PT1H30M, 2025-04-28T19:30:00Z, 2025-04-28T18:...</td>\n",
       "      <td>REGULAR</td>\n",
       "      <td>5e95c064ea8094116e8e0a54</td>\n",
       "      <td>5e95c064ea8094116e8e0a56</td>\n",
       "    </tr>\n",
       "  </tbody>\n",
       "</table>\n",
       "</div>"
      ],
      "text/plain": [
       "   billable costRate customFieldValues description hourlyRate  \\\n",
       "0      True  (0, R$)                []          FN    (0, R$)   \n",
       "1      True  (0, R$)                []          FN    (0, R$)   \n",
       "2     False  (0, R$)                []     AIRFLOW    (0, R$)   \n",
       "3      True  (0, R$)                []          FN    (0, R$)   \n",
       "4     False  (0, R$)                []     AIRFLOW    (0, R$)   \n",
       "\n",
       "                         id  isLocked kioskId                 projectId  \\\n",
       "0  6812503ea9fefb2f03fdce00     False    None  61e54e2ddc3256444ce00210   \n",
       "1  68108631685bcf6ccbc048c3     False    None  61e54e2ddc3256444ce00210   \n",
       "2  681d4cfa9ee5b440ea2a2aaa     False    None  5e9f4704ea8094116e994d87   \n",
       "3  681c62ae1f74a85f2fba2592     False    None  61e54e2ddc3256444ce00210   \n",
       "4  681086462e56197b9fdc38a3     False    None  5e9f4704ea8094116e994d87   \n",
       "\n",
       "  tagIds taskId                                       timeInterval     type  \\\n",
       "0   None   None  (PT58M, 2025-04-30T17:28:54Z, 2025-04-30T16:30...  REGULAR   \n",
       "1     []   None  (PT8H, 2025-04-30T16:00:00Z, 2025-04-30T08:00:...  REGULAR   \n",
       "2     []   None                 (None, None, 2025-05-09T00:31:54Z)  REGULAR   \n",
       "3   None   None  (PT8H13M, 2025-05-08T16:05:14Z, 2025-05-08T07:...  REGULAR   \n",
       "4     []   None  (PT1H30M, 2025-04-28T19:30:00Z, 2025-04-28T18:...  REGULAR   \n",
       "\n",
       "                     userId               workspaceId  \n",
       "0  5e95c064ea8094116e8e0a54  5e95c064ea8094116e8e0a56  \n",
       "1  5e95c064ea8094116e8e0a54  5e95c064ea8094116e8e0a56  \n",
       "2  5e95c064ea8094116e8e0a54  5e95c064ea8094116e8e0a56  \n",
       "3  5e95c064ea8094116e8e0a54  5e95c064ea8094116e8e0a56  \n",
       "4  5e95c064ea8094116e8e0a54  5e95c064ea8094116e8e0a56  "
      ]
     },
     "execution_count": 11,
     "metadata": {},
     "output_type": "execute_result"
    }
   ],
   "source": [
    "df.limit(5).toPandas().head()"
   ]
  },
  {
   "cell_type": "code",
   "execution_count": 13,
   "id": "ac903672-26ec-4823-8294-f688862d5482",
   "metadata": {},
   "outputs": [
    {
     "ename": "AnalysisException",
     "evalue": "org.apache.hadoop.hive.ql.metadata.HiveException: MetaException(message:Unable to create database path file:/app/spark-warehouse/bronze.db, failed to create database bronze)",
     "output_type": "error",
     "traceback": [
      "\u001b[0;31m---------------------------------------------------------------------------\u001b[0m",
      "\u001b[0;31mAnalysisException\u001b[0m                         Traceback (most recent call last)",
      "Cell \u001b[0;32mIn[13], line 1\u001b[0m\n\u001b[0;32m----> 1\u001b[0m \u001b[43mspark\u001b[49m\u001b[38;5;241;43m.\u001b[39;49m\u001b[43msql\u001b[49m\u001b[43m(\u001b[49m\u001b[38;5;124;43m\"\u001b[39;49m\u001b[38;5;124;43mCREATE NAMESPACE IF NOT EXISTS bronze;\u001b[39;49m\u001b[38;5;124;43m\"\u001b[39;49m\u001b[43m)\u001b[49m\u001b[38;5;241m.\u001b[39mshow()\n\u001b[1;32m      2\u001b[0m \u001b[38;5;66;03m# spark.sql(\"CREATE DATABASE IF NOT EXISTS bronze;\").show()\u001b[39;00m\n",
      "File \u001b[0;32m~opt/bitnami/spark/python/pyspark/sql/session.py:1631\u001b[0m, in \u001b[0;36mSparkSession.sql\u001b[0;34m(self, sqlQuery, args, **kwargs)\u001b[0m\n\u001b[1;32m   1627\u001b[0m         \u001b[38;5;28;01massert\u001b[39;00m \u001b[38;5;28mself\u001b[39m\u001b[38;5;241m.\u001b[39m_jvm \u001b[38;5;129;01mis\u001b[39;00m \u001b[38;5;129;01mnot\u001b[39;00m \u001b[38;5;28;01mNone\u001b[39;00m\n\u001b[1;32m   1628\u001b[0m         litArgs \u001b[38;5;241m=\u001b[39m \u001b[38;5;28mself\u001b[39m\u001b[38;5;241m.\u001b[39m_jvm\u001b[38;5;241m.\u001b[39mPythonUtils\u001b[38;5;241m.\u001b[39mtoArray(\n\u001b[1;32m   1629\u001b[0m             [_to_java_column(lit(v)) \u001b[38;5;28;01mfor\u001b[39;00m v \u001b[38;5;129;01min\u001b[39;00m (args \u001b[38;5;129;01mor\u001b[39;00m [])]\n\u001b[1;32m   1630\u001b[0m         )\n\u001b[0;32m-> 1631\u001b[0m     \u001b[38;5;28;01mreturn\u001b[39;00m DataFrame(\u001b[38;5;28;43mself\u001b[39;49m\u001b[38;5;241;43m.\u001b[39;49m\u001b[43m_jsparkSession\u001b[49m\u001b[38;5;241;43m.\u001b[39;49m\u001b[43msql\u001b[49m\u001b[43m(\u001b[49m\u001b[43msqlQuery\u001b[49m\u001b[43m,\u001b[49m\u001b[43m \u001b[49m\u001b[43mlitArgs\u001b[49m\u001b[43m)\u001b[49m, \u001b[38;5;28mself\u001b[39m)\n\u001b[1;32m   1632\u001b[0m \u001b[38;5;28;01mfinally\u001b[39;00m:\n\u001b[1;32m   1633\u001b[0m     \u001b[38;5;28;01mif\u001b[39;00m \u001b[38;5;28mlen\u001b[39m(kwargs) \u001b[38;5;241m>\u001b[39m \u001b[38;5;241m0\u001b[39m:\n",
      "File \u001b[0;32m~.local/lib/python3.12/site-packages/py4j/java_gateway.py:1322\u001b[0m, in \u001b[0;36mJavaMember.__call__\u001b[0;34m(self, *args)\u001b[0m\n\u001b[1;32m   1316\u001b[0m command \u001b[38;5;241m=\u001b[39m proto\u001b[38;5;241m.\u001b[39mCALL_COMMAND_NAME \u001b[38;5;241m+\u001b[39m\\\n\u001b[1;32m   1317\u001b[0m     \u001b[38;5;28mself\u001b[39m\u001b[38;5;241m.\u001b[39mcommand_header \u001b[38;5;241m+\u001b[39m\\\n\u001b[1;32m   1318\u001b[0m     args_command \u001b[38;5;241m+\u001b[39m\\\n\u001b[1;32m   1319\u001b[0m     proto\u001b[38;5;241m.\u001b[39mEND_COMMAND_PART\n\u001b[1;32m   1321\u001b[0m answer \u001b[38;5;241m=\u001b[39m \u001b[38;5;28mself\u001b[39m\u001b[38;5;241m.\u001b[39mgateway_client\u001b[38;5;241m.\u001b[39msend_command(command)\n\u001b[0;32m-> 1322\u001b[0m return_value \u001b[38;5;241m=\u001b[39m \u001b[43mget_return_value\u001b[49m\u001b[43m(\u001b[49m\n\u001b[1;32m   1323\u001b[0m \u001b[43m    \u001b[49m\u001b[43manswer\u001b[49m\u001b[43m,\u001b[49m\u001b[43m \u001b[49m\u001b[38;5;28;43mself\u001b[39;49m\u001b[38;5;241;43m.\u001b[39;49m\u001b[43mgateway_client\u001b[49m\u001b[43m,\u001b[49m\u001b[43m \u001b[49m\u001b[38;5;28;43mself\u001b[39;49m\u001b[38;5;241;43m.\u001b[39;49m\u001b[43mtarget_id\u001b[49m\u001b[43m,\u001b[49m\u001b[43m \u001b[49m\u001b[38;5;28;43mself\u001b[39;49m\u001b[38;5;241;43m.\u001b[39;49m\u001b[43mname\u001b[49m\u001b[43m)\u001b[49m\n\u001b[1;32m   1325\u001b[0m \u001b[38;5;28;01mfor\u001b[39;00m temp_arg \u001b[38;5;129;01min\u001b[39;00m temp_args:\n\u001b[1;32m   1326\u001b[0m     \u001b[38;5;28;01mif\u001b[39;00m \u001b[38;5;28mhasattr\u001b[39m(temp_arg, \u001b[38;5;124m\"\u001b[39m\u001b[38;5;124m_detach\u001b[39m\u001b[38;5;124m\"\u001b[39m):\n",
      "File \u001b[0;32m~opt/bitnami/spark/python/pyspark/errors/exceptions/captured.py:185\u001b[0m, in \u001b[0;36mcapture_sql_exception.<locals>.deco\u001b[0;34m(*a, **kw)\u001b[0m\n\u001b[1;32m    181\u001b[0m converted \u001b[38;5;241m=\u001b[39m convert_exception(e\u001b[38;5;241m.\u001b[39mjava_exception)\n\u001b[1;32m    182\u001b[0m \u001b[38;5;28;01mif\u001b[39;00m \u001b[38;5;129;01mnot\u001b[39;00m \u001b[38;5;28misinstance\u001b[39m(converted, UnknownException):\n\u001b[1;32m    183\u001b[0m     \u001b[38;5;66;03m# Hide where the exception came from that shows a non-Pythonic\u001b[39;00m\n\u001b[1;32m    184\u001b[0m     \u001b[38;5;66;03m# JVM exception message.\u001b[39;00m\n\u001b[0;32m--> 185\u001b[0m     \u001b[38;5;28;01mraise\u001b[39;00m converted \u001b[38;5;28;01mfrom\u001b[39;00m\u001b[38;5;250m \u001b[39m\u001b[38;5;28;01mNone\u001b[39;00m\n\u001b[1;32m    186\u001b[0m \u001b[38;5;28;01melse\u001b[39;00m:\n\u001b[1;32m    187\u001b[0m     \u001b[38;5;28;01mraise\u001b[39;00m\n",
      "\u001b[0;31mAnalysisException\u001b[0m: org.apache.hadoop.hive.ql.metadata.HiveException: MetaException(message:Unable to create database path file:/app/spark-warehouse/bronze.db, failed to create database bronze)"
     ]
    }
   ],
   "source": [
    "spark.sql(\"CREATE NAMESPACE IF NOT EXISTS bronze;\").show()\n",
    "# spark.sql(\"CREATE DATABASE IF NOT EXISTS bronze;\").show()"
   ]
  },
  {
   "cell_type": "code",
   "execution_count": null,
   "id": "51d7cc25-f4e7-4054-985d-69d992e44985",
   "metadata": {},
   "outputs": [],
   "source": [
    "spark.sql(\"SHOW SCHEMAS;\").show()"
   ]
  },
  {
   "cell_type": "code",
   "execution_count": null,
   "id": "d62dcac4-844e-46b9-b8ef-0cccd3d3d944",
   "metadata": {},
   "outputs": [],
   "source": [
    "df.writeTo(\"clockify_catalog.bronze.time_entries\").createOrReplace()"
   ]
  },
  {
   "cell_type": "code",
   "execution_count": null,
   "id": "b46e71bf-e2b2-4b05-b111-e72e9dd87b42",
   "metadata": {},
   "outputs": [],
   "source": [
    "df = spark.read.format(\"iceberg\").load(\"clockify_catalog.bronze.time_entries\")"
   ]
  },
  {
   "cell_type": "code",
   "execution_count": null,
   "id": "a802a6c7-0b40-4ebd-9681-1587b9b75edd",
   "metadata": {},
   "outputs": [],
   "source": [
    "spark.read.json(\"s3a://raw/clockify/time-entries/*.json\").printSchema()"
   ]
  },
  {
   "cell_type": "code",
   "execution_count": null,
   "id": "b9c1aa66-23f1-4a33-bad2-a703a41da6fe",
   "metadata": {},
   "outputs": [],
   "source": [
    "spark.read.format(\"iceberg\").load(\"s3a://staging/bronze/time_entries\").show()"
   ]
  },
  {
   "cell_type": "code",
   "execution_count": null,
   "id": "b1d09a37-4f8c-4a0e-a4cf-14665ab5e6c3",
   "metadata": {},
   "outputs": [],
   "source": [
    "# spark.sql(\"SHOW NAMESPACES IN clockify_catalog\").show()  # Lists all databases (namespaces)\n",
    "spark.sql(\"SHOW TABLES IN clockify_catalog.bronze\").show()  # Lists all tables in bronze"
   ]
  },
  {
   "cell_type": "code",
   "execution_count": null,
   "id": "d6028266-47ed-42b0-a2a1-855b1039bad1",
   "metadata": {},
   "outputs": [],
   "source": [
    "sp"
   ]
  }
 ],
 "metadata": {
  "kernelspec": {
   "display_name": "Python 3 (ipykernel)",
   "language": "python",
   "name": "python3"
  },
  "language_info": {
   "codemirror_mode": {
    "name": "ipython",
    "version": 3
   },
   "file_extension": ".py",
   "mimetype": "text/x-python",
   "name": "python",
   "nbconvert_exporter": "python",
   "pygments_lexer": "ipython3",
   "version": "3.12.10"
  }
 },
 "nbformat": 4,
 "nbformat_minor": 5
}

{
 "cells": [
  {
   "cell_type": "code",
   "execution_count": 21,
   "id": "ac9d3a80-404e-4978-b8d7-b41ccb88669a",
   "metadata": {},
   "outputs": [
    {
     "name": "stdout",
     "output_type": "stream",
     "text": [
      "mEk4ek2HCmeb3xCK2twM\n"
     ]
    }
   ],
   "source": [
    "import os\n",
    "print(os.environ[\"MINIO_ACCESS_KEY\"])"
   ]
  },
  {
   "cell_type": "code",
   "execution_count": 22,
   "id": "510936eb-c630-47be-a75d-cdad8977e06c",
   "metadata": {},
   "outputs": [],
   "source": [
    "from pyspark.sql import SparkSession"
   ]
  },
  {
   "cell_type": "code",
   "execution_count": 23,
   "id": "95a59fdb-469d-4267-ab0b-c806d9eee24a",
   "metadata": {},
   "outputs": [],
   "source": [
    "spark = (\n",
    "        SparkSession.builder.master(\"spark://spark:7077\")\n",
    "        .appName(\"stg_clockify__time_entries\")\n",
    "        .config(\n",
    "            \"spark.jars.packages\",\n",
    "            \"org.apache.hadoop:hadoop-aws:3.3.4,org.apache.iceberg:iceberg-spark-runtime-3.5_2.12:1.4.2\",\n",
    "        )\n",
    "        .config(\"spark.hadoop.fs.s3a.access.key\", os.environ[\"MINIO_ACCESS_KEY\"])\n",
    "        .config(\"spark.hadoop.fs.s3a.secret.key\", os.environ[\"MINIO_SECRET_KEY\"])\n",
    "        .config(\"spark.hadoop.fs.s3a.endpoint\", \"http://minio:9000\")\n",
    "        .config(\"spark.hadoop.fs.s3a.path.style.access\", \"true\")\n",
    "        .config(\"spark.hadoop.fs.s3a.connection.ssl.enabled\", \"false\")\n",
    "        .config(\n",
    "            \"spark.sql.catalog.clockify_catalog\",\n",
    "            \"org.apache.iceberg.spark.SparkCatalog\",\n",
    "        )\n",
    "        .config(\"spark.sql.catalog.clockify_catalog.type\", \"hadoop\")\n",
    "        .config(\n",
    "            \"spark.sql.catalog.clockify_catalog.warehouse\", f\"s3a://staging/\"\n",
    "        )\n",
    "        .getOrCreate()\n",
    "    )"
   ]
  },
  {
   "cell_type": "code",
   "execution_count": 24,
   "id": "b46e71bf-e2b2-4b05-b111-e72e9dd87b42",
   "metadata": {},
   "outputs": [],
   "source": [
    "df = spark.read.format(\"iceberg\").load(\"clockify_catalog.bronze.time_entries\")"
   ]
  },
  {
   "cell_type": "code",
   "execution_count": 25,
   "id": "c0c4dac2-3b28-4a8c-bb5f-ab37263aa407",
   "metadata": {},
   "outputs": [
    {
     "name": "stderr",
     "output_type": "stream",
     "text": [
      "[Stage 4:>                                                          (0 + 1) / 1]"
     ]
    },
    {
     "name": "stdout",
     "output_type": "stream",
     "text": [
      "+--------------------+-----------+------+--------------------+--------+------+--------------------+--------------------+--------------------+-----------------+-------+-------+----------+--------+--------+\n",
      "|                  id|description|tagIds|              userId|billable|taskId|           projectId|         workspaceId|        timeInterval|customFieldValues|   type|kioskId|hourlyRate|costRate|isLocked|\n",
      "+--------------------+-----------+------+--------------------+--------+------+--------------------+--------------------+--------------------+-----------------+-------+-------+----------+--------+--------+\n",
      "|6808aa894f2e1a162...|         FN|    []|5e95c064ea8094116...|    true|  NULL|61e54e2ddc3256444...|5e95c064ea8094116...|{PT8H, 2025-04-21...|               []|REGULAR|   NULL|   {0, R$}| {0, R$}|   false|\n",
      "|6808aa91762e83002...|         FN|    []|5e95c064ea8094116...|    true|  NULL|61e54e2ddc3256444...|5e95c064ea8094116...|{PT8H, 2025-04-22...|               []|REGULAR|   NULL|   {0, R$}| {0, R$}|   false|\n",
      "|6808aa97aea83574e...|         FN|    []|5e95c064ea8094116...|    true|  NULL|61e54e2ddc3256444...|5e95c064ea8094116...|{PT8H, 2025-04-23...|               []|REGULAR|   NULL|   {0, R$}| {0, R$}|   false|\n",
      "+--------------------+-----------+------+--------------------+--------+------+--------------------+--------------------+--------------------+-----------------+-------+-------+----------+--------+--------+\n",
      "\n"
     ]
    },
    {
     "name": "stderr",
     "output_type": "stream",
     "text": [
      "                                                                                "
     ]
    }
   ],
   "source": [
    "df.show()"
   ]
  },
  {
   "cell_type": "code",
   "execution_count": 26,
   "id": "b9c1aa66-23f1-4a33-bad2-a703a41da6fe",
   "metadata": {},
   "outputs": [
    {
     "name": "stdout",
     "output_type": "stream",
     "text": [
      "+--------------------+-----------+------+--------------------+--------+------+--------------------+--------------------+--------------------+-----------------+-------+-------+----------+--------+--------+\n",
      "|                  id|description|tagIds|              userId|billable|taskId|           projectId|         workspaceId|        timeInterval|customFieldValues|   type|kioskId|hourlyRate|costRate|isLocked|\n",
      "+--------------------+-----------+------+--------------------+--------+------+--------------------+--------------------+--------------------+-----------------+-------+-------+----------+--------+--------+\n",
      "|6808aa894f2e1a162...|         FN|    []|5e95c064ea8094116...|    true|  NULL|61e54e2ddc3256444...|5e95c064ea8094116...|{PT8H, 2025-04-21...|               []|REGULAR|   NULL|   {0, R$}| {0, R$}|   false|\n",
      "|6808aa91762e83002...|         FN|    []|5e95c064ea8094116...|    true|  NULL|61e54e2ddc3256444...|5e95c064ea8094116...|{PT8H, 2025-04-22...|               []|REGULAR|   NULL|   {0, R$}| {0, R$}|   false|\n",
      "|6808aa97aea83574e...|         FN|    []|5e95c064ea8094116...|    true|  NULL|61e54e2ddc3256444...|5e95c064ea8094116...|{PT8H, 2025-04-23...|               []|REGULAR|   NULL|   {0, R$}| {0, R$}|   false|\n",
      "+--------------------+-----------+------+--------------------+--------+------+--------------------+--------------------+--------------------+-----------------+-------+-------+----------+--------+--------+\n",
      "\n"
     ]
    }
   ],
   "source": [
    "spark.read.format(\"iceberg\").load(\"s3a://staging/bronze/time_entries\").show()"
   ]
  },
  {
   "cell_type": "code",
   "execution_count": 30,
   "id": "b1d09a37-4f8c-4a0e-a4cf-14665ab5e6c3",
   "metadata": {},
   "outputs": [
    {
     "name": "stdout",
     "output_type": "stream",
     "text": [
      "+---------+------------+-----------+\n",
      "|namespace|   tableName|isTemporary|\n",
      "+---------+------------+-----------+\n",
      "|   bronze|time_entries|      false|\n",
      "+---------+------------+-----------+\n",
      "\n"
     ]
    }
   ],
   "source": [
    "# spark.sql(\"SHOW NAMESPACES IN clockify_catalog\").show()  # Lists all databases (namespaces)\n",
    "spark.sql(\"SHOW TABLES IN clockify_catalog.bronze\").show()  # Lists all tables in bronze"
   ]
  },
  {
   "cell_type": "code",
   "execution_count": null,
   "id": "d6028266-47ed-42b0-a2a1-855b1039bad1",
   "metadata": {},
   "outputs": [],
   "source": []
  }
 ],
 "metadata": {
  "kernelspec": {
   "display_name": "Python 3 (ipykernel)",
   "language": "python",
   "name": "python3"
  },
  "language_info": {
   "codemirror_mode": {
    "name": "ipython",
    "version": 3
   },
   "file_extension": ".py",
   "mimetype": "text/x-python",
   "name": "python",
   "nbconvert_exporter": "python",
   "pygments_lexer": "ipython3",
   "version": "3.12.10"
  }
 },
 "nbformat": 4,
 "nbformat_minor": 5
}
